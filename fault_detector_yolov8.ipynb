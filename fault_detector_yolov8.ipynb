{
  "metadata": {
    "kernelspec": {
      "language": "python",
      "display_name": "Python 3",
      "name": "python3"
    },
    "language_info": {
      "name": "python",
      "version": "3.10.13",
      "mimetype": "text/x-python",
      "codemirror_mode": {
        "name": "ipython",
        "version": 3
      },
      "pygments_lexer": "ipython3",
      "nbconvert_exporter": "python",
      "file_extension": ".py"
    },
    "kaggle": {
      "accelerator": "nvidiaTeslaT4",
      "dataSources": [
        {
          "sourceId": 8167865,
          "sourceType": "datasetVersion",
          "datasetId": 4833450
        },
        {
          "sourceId": 8168961,
          "sourceType": "datasetVersion",
          "datasetId": 4834238
        },
        {
          "sourceId": 8183826,
          "sourceType": "datasetVersion",
          "datasetId": 4845618
        },
        {
          "sourceId": 8183898,
          "sourceType": "datasetVersion",
          "datasetId": 4845677
        },
        {
          "sourceId": 8270825,
          "sourceType": "datasetVersion",
          "datasetId": 4910548
        },
        {
          "sourceId": 8270861,
          "sourceType": "datasetVersion",
          "datasetId": 4910577
        },
        {
          "sourceId": 8270875,
          "sourceType": "datasetVersion",
          "datasetId": 4910588
        },
        {
          "sourceId": 8271749,
          "sourceType": "datasetVersion",
          "datasetId": 4911249
        },
        {
          "sourceId": 8281230,
          "sourceType": "datasetVersion",
          "datasetId": 4918073
        }
      ],
      "dockerImageVersionId": 30674,
      "isInternetEnabled": true,
      "language": "python",
      "sourceType": "notebook",
      "isGpuEnabled": true
    },
    "colab": {
      "name": "fault_detector_yolov8",
      "provenance": [],
      "include_colab_link": true
    }
  },
  "nbformat_minor": 0,
  "nbformat": 4,
  "cells": [
    {
      "cell_type": "markdown",
      "metadata": {
        "id": "view-in-github",
        "colab_type": "text"
      },
      "source": [
        "<a href=\"https://colab.research.google.com/github/MohibShaikh/Fault-Detection-using-CV/blob/main/fault_detector_yolov8.ipynb\" target=\"_parent\"><img src=\"https://colab.research.google.com/assets/colab-badge.svg\" alt=\"Open In Colab\"/></a>"
      ]
    },
    {
      "cell_type": "code",
      "source": [
        "import shutil\n",
        "\n",
        "source_dir = \"/kaggle/input/yalla-ya29\"\n",
        "\n",
        "# Destination directory\n",
        "destination_dir = \"/kaggle/working/yalla-ya29\"\n",
        "\n",
        "shutil.copytree(source_dir, destination_dir)"
      ],
      "metadata": {
        "execution": {
          "iopub.status.busy": "2024-04-30T11:54:20.998206Z",
          "iopub.execute_input": "2024-04-30T11:54:20.998583Z",
          "iopub.status.idle": "2024-04-30T11:56:21.133642Z",
          "shell.execute_reply.started": "2024-04-30T11:54:20.998553Z",
          "shell.execute_reply": "2024-04-30T11:56:21.132713Z"
        },
        "trusted": true,
        "id": "lKcioVJ_TRzM",
        "outputId": "c0d2bc1c-a452-426f-f582-947eb23b100c"
      },
      "execution_count": null,
      "outputs": [
        {
          "execution_count": 12,
          "output_type": "execute_result",
          "data": {
            "text/plain": "'/kaggle/working/yalla-ya29'"
          },
          "metadata": {}
        }
      ]
    },
    {
      "cell_type": "code",
      "source": [
        "!pip install ultralytics\n",
        "# !pip install wandb\n",
        "import wandb\n",
        "wandb.login()\n",
        "from ultralytics import YOLO\n",
        "!yolo train data=/kaggle/input/yalla-ya29/yalla/data.yaml model=/kaggle/working/yolov8l.pt imgsz=640 device=0 epochs=20 save_period=10 scale=0.2"
      ],
      "metadata": {
        "execution": {
          "iopub.status.busy": "2024-05-01T14:11:44.431539Z",
          "iopub.execute_input": "2024-05-01T14:11:44.432178Z",
          "iopub.status.idle": "2024-05-01T17:50:58.226358Z",
          "shell.execute_reply.started": "2024-05-01T14:11:44.432143Z",
          "shell.execute_reply": "2024-05-01T17:50:58.225028Z"
        },
        "trusted": true,
        "id": "A0L4YKR_TRzN",
        "outputId": "3e29c499-d7b1-4bac-8c4c-4426fd386b13"
      },
      "execution_count": null,
      "outputs": [
        {
          "name": "stdout",
          "text": "Collecting ultralytics\n  Downloading ultralytics-8.2.6-py3-none-any.whl.metadata (40 kB)\n\u001b[2K     \u001b[90m━━━━━━━━━━━━━━━━━━━━━━━━━━━━━━━━━━━━━━━\u001b[0m \u001b[32m40.6/40.6 kB\u001b[0m \u001b[31m708.5 kB/s\u001b[0m eta \u001b[36m0:00:00\u001b[0ma \u001b[36m0:00:01\u001b[0m\n\u001b[?25hRequirement already satisfied: matplotlib>=3.3.0 in /opt/conda/lib/python3.10/site-packages (from ultralytics) (3.7.5)\nRequirement already satisfied: opencv-python>=4.6.0 in /opt/conda/lib/python3.10/site-packages (from ultralytics) (4.9.0.80)\nRequirement already satisfied: pillow>=7.1.2 in /opt/conda/lib/python3.10/site-packages (from ultralytics) (9.5.0)\nRequirement already satisfied: pyyaml>=5.3.1 in /opt/conda/lib/python3.10/site-packages (from ultralytics) (6.0.1)\nRequirement already satisfied: requests>=2.23.0 in /opt/conda/lib/python3.10/site-packages (from ultralytics) (2.31.0)\nRequirement already satisfied: scipy>=1.4.1 in /opt/conda/lib/python3.10/site-packages (from ultralytics) (1.11.4)\nRequirement already satisfied: torch>=1.8.0 in /opt/conda/lib/python3.10/site-packages (from ultralytics) (2.1.2)\nRequirement already satisfied: torchvision>=0.9.0 in /opt/conda/lib/python3.10/site-packages (from ultralytics) (0.16.2)\nRequirement already satisfied: tqdm>=4.64.0 in /opt/conda/lib/python3.10/site-packages (from ultralytics) (4.66.1)\nRequirement already satisfied: psutil in /opt/conda/lib/python3.10/site-packages (from ultralytics) (5.9.3)\nRequirement already satisfied: py-cpuinfo in /opt/conda/lib/python3.10/site-packages (from ultralytics) (9.0.0)\nCollecting thop>=0.1.1 (from ultralytics)\n  Downloading thop-0.1.1.post2209072238-py3-none-any.whl.metadata (2.7 kB)\nRequirement already satisfied: pandas>=1.1.4 in /opt/conda/lib/python3.10/site-packages (from ultralytics) (2.1.4)\nRequirement already satisfied: seaborn>=0.11.0 in /opt/conda/lib/python3.10/site-packages (from ultralytics) (0.12.2)\nRequirement already satisfied: contourpy>=1.0.1 in /opt/conda/lib/python3.10/site-packages (from matplotlib>=3.3.0->ultralytics) (1.2.0)\nRequirement already satisfied: cycler>=0.10 in /opt/conda/lib/python3.10/site-packages (from matplotlib>=3.3.0->ultralytics) (0.12.1)\nRequirement already satisfied: fonttools>=4.22.0 in /opt/conda/lib/python3.10/site-packages (from matplotlib>=3.3.0->ultralytics) (4.47.0)\nRequirement already satisfied: kiwisolver>=1.0.1 in /opt/conda/lib/python3.10/site-packages (from matplotlib>=3.3.0->ultralytics) (1.4.5)\nRequirement already satisfied: numpy<2,>=1.20 in /opt/conda/lib/python3.10/site-packages (from matplotlib>=3.3.0->ultralytics) (1.26.4)\nRequirement already satisfied: packaging>=20.0 in /opt/conda/lib/python3.10/site-packages (from matplotlib>=3.3.0->ultralytics) (21.3)\nRequirement already satisfied: pyparsing>=2.3.1 in /opt/conda/lib/python3.10/site-packages (from matplotlib>=3.3.0->ultralytics) (3.1.1)\nRequirement already satisfied: python-dateutil>=2.7 in /opt/conda/lib/python3.10/site-packages (from matplotlib>=3.3.0->ultralytics) (2.9.0.post0)\nRequirement already satisfied: pytz>=2020.1 in /opt/conda/lib/python3.10/site-packages (from pandas>=1.1.4->ultralytics) (2023.3.post1)\nRequirement already satisfied: tzdata>=2022.1 in /opt/conda/lib/python3.10/site-packages (from pandas>=1.1.4->ultralytics) (2023.4)\nRequirement already satisfied: charset-normalizer<4,>=2 in /opt/conda/lib/python3.10/site-packages (from requests>=2.23.0->ultralytics) (3.3.2)\nRequirement already satisfied: idna<4,>=2.5 in /opt/conda/lib/python3.10/site-packages (from requests>=2.23.0->ultralytics) (3.6)\nRequirement already satisfied: urllib3<3,>=1.21.1 in /opt/conda/lib/python3.10/site-packages (from requests>=2.23.0->ultralytics) (1.26.18)\nRequirement already satisfied: certifi>=2017.4.17 in /opt/conda/lib/python3.10/site-packages (from requests>=2.23.0->ultralytics) (2024.2.2)\nRequirement already satisfied: filelock in /opt/conda/lib/python3.10/site-packages (from torch>=1.8.0->ultralytics) (3.13.1)\nRequirement already satisfied: typing-extensions in /opt/conda/lib/python3.10/site-packages (from torch>=1.8.0->ultralytics) (4.9.0)\nRequirement already satisfied: sympy in /opt/conda/lib/python3.10/site-packages (from torch>=1.8.0->ultralytics) (1.12)\nRequirement already satisfied: networkx in /opt/conda/lib/python3.10/site-packages (from torch>=1.8.0->ultralytics) (3.2.1)\nRequirement already satisfied: jinja2 in /opt/conda/lib/python3.10/site-packages (from torch>=1.8.0->ultralytics) (3.1.2)\nRequirement already satisfied: fsspec in /opt/conda/lib/python3.10/site-packages (from torch>=1.8.0->ultralytics) (2024.3.0)\nRequirement already satisfied: six>=1.5 in /opt/conda/lib/python3.10/site-packages (from python-dateutil>=2.7->matplotlib>=3.3.0->ultralytics) (1.16.0)\nRequirement already satisfied: MarkupSafe>=2.0 in /opt/conda/lib/python3.10/site-packages (from jinja2->torch>=1.8.0->ultralytics) (2.1.3)\nRequirement already satisfied: mpmath>=0.19 in /opt/conda/lib/python3.10/site-packages (from sympy->torch>=1.8.0->ultralytics) (1.3.0)\nDownloading ultralytics-8.2.6-py3-none-any.whl (755 kB)\n\u001b[2K   \u001b[90m━━━━━━━━━━━━━━━━━━━━━━━━━━━━━━━━━━━━━━━━\u001b[0m \u001b[32m755.0/755.0 kB\u001b[0m \u001b[31m5.9 MB/s\u001b[0m eta \u001b[36m0:00:00\u001b[0ma \u001b[36m0:00:01\u001b[0m\n\u001b[?25hDownloading thop-0.1.1.post2209072238-py3-none-any.whl (15 kB)\nInstalling collected packages: thop, ultralytics\nSuccessfully installed thop-0.1.1.post2209072238 ultralytics-8.2.6\n",
          "output_type": "stream"
        },
        {
          "name": "stderr",
          "text": "\u001b[34m\u001b[1mwandb\u001b[0m: Logging into wandb.ai. (Learn how to deploy a W&B server locally: https://wandb.me/wandb-server)\n\u001b[34m\u001b[1mwandb\u001b[0m: You can find your API key in your browser here: https://wandb.ai/authorize\n\u001b[34m\u001b[1mwandb\u001b[0m: Paste an API key from your profile and hit enter, or press ctrl+c to quit:",
          "output_type": "stream"
        },
        {
          "output_type": "stream",
          "name": "stdin",
          "text": "  ········································\n"
        },
        {
          "name": "stderr",
          "text": "\u001b[34m\u001b[1mwandb\u001b[0m: Appending key for api.wandb.ai to your netrc file: /root/.netrc\n",
          "output_type": "stream"
        },
        {
          "name": "stdout",
          "text": "Ultralytics YOLOv8.2.6 🚀 Python-3.10.13 torch-2.1.2 CUDA:0 (Tesla T4, 15102MiB)\n\u001b[34m\u001b[1mengine/trainer: \u001b[0mtask=detect, mode=train, model=/kaggle/working/yolov8l.pt, data=/kaggle/input/yalla-ya29/yalla/data.yaml, epochs=20, time=None, patience=100, batch=16, imgsz=640, save=True, save_period=10, cache=False, device=0, workers=8, project=None, name=train37, exist_ok=False, pretrained=True, optimizer=auto, verbose=True, seed=0, deterministic=True, single_cls=False, rect=False, cos_lr=False, close_mosaic=10, resume=False, amp=True, fraction=1.0, profile=False, freeze=None, multi_scale=False, overlap_mask=True, mask_ratio=4, dropout=0.0, val=True, split=val, save_json=False, save_hybrid=False, conf=None, iou=0.7, max_det=300, half=False, dnn=False, plots=True, source=None, vid_stride=1, stream_buffer=False, visualize=False, augment=False, agnostic_nms=False, classes=None, retina_masks=False, embed=None, show=False, save_frames=False, save_txt=False, save_conf=False, save_crop=False, show_labels=True, show_conf=True, show_boxes=True, line_width=None, format=torchscript, keras=False, optimize=False, int8=False, dynamic=False, simplify=False, opset=None, workspace=4, nms=False, lr0=0.01, lrf=0.01, momentum=0.937, weight_decay=0.0005, warmup_epochs=3.0, warmup_momentum=0.8, warmup_bias_lr=0.1, box=7.5, cls=0.5, dfl=1.5, pose=12.0, kobj=1.0, label_smoothing=0.0, nbs=64, hsv_h=0.015, hsv_s=0.7, hsv_v=0.4, degrees=0.0, translate=0.1, scale=0.2, shear=0.0, perspective=0.0, flipud=0.0, fliplr=0.5, bgr=0.0, mosaic=1.0, mixup=0.0, copy_paste=0.0, auto_augment=randaugment, erasing=0.4, crop_fraction=1.0, cfg=None, tracker=botsort.yaml, save_dir=runs/detect/train37\nDownloading https://ultralytics.com/assets/Arial.ttf to '/root/.config/Ultralytics/Arial.ttf'...\n100%|████████████████████████████████████████| 755k/755k [00:00<00:00, 14.7MB/s]\n2024-05-01 14:13:26.926721: E external/local_xla/xla/stream_executor/cuda/cuda_dnn.cc:9261] Unable to register cuDNN factory: Attempting to register factory for plugin cuDNN when one has already been registered\n2024-05-01 14:13:26.926848: E external/local_xla/xla/stream_executor/cuda/cuda_fft.cc:607] Unable to register cuFFT factory: Attempting to register factory for plugin cuFFT when one has already been registered\n2024-05-01 14:13:27.027685: E external/local_xla/xla/stream_executor/cuda/cuda_blas.cc:1515] Unable to register cuBLAS factory: Attempting to register factory for plugin cuBLAS when one has already been registered\nOverriding model.yaml nc=80 with nc=2\n\n                   from  n    params  module                                       arguments                     \n  0                  -1  1      1856  ultralytics.nn.modules.conv.Conv             [3, 64, 3, 2]                 \n  1                  -1  1     73984  ultralytics.nn.modules.conv.Conv             [64, 128, 3, 2]               \n  2                  -1  3    279808  ultralytics.nn.modules.block.C2f             [128, 128, 3, True]           \n  3                  -1  1    295424  ultralytics.nn.modules.conv.Conv             [128, 256, 3, 2]              \n  4                  -1  6   2101248  ultralytics.nn.modules.block.C2f             [256, 256, 6, True]           \n  5                  -1  1   1180672  ultralytics.nn.modules.conv.Conv             [256, 512, 3, 2]              \n  6                  -1  6   8396800  ultralytics.nn.modules.block.C2f             [512, 512, 6, True]           \n  7                  -1  1   2360320  ultralytics.nn.modules.conv.Conv             [512, 512, 3, 2]              \n  8                  -1  3   4461568  ultralytics.nn.modules.block.C2f             [512, 512, 3, True]           \n  9                  -1  1    656896  ultralytics.nn.modules.block.SPPF            [512, 512, 5]                 \n 10                  -1  1         0  torch.nn.modules.upsampling.Upsample         [None, 2, 'nearest']          \n 11             [-1, 6]  1         0  ultralytics.nn.modules.conv.Concat           [1]                           \n 12                  -1  3   4723712  ultralytics.nn.modules.block.C2f             [1024, 512, 3]                \n 13                  -1  1         0  torch.nn.modules.upsampling.Upsample         [None, 2, 'nearest']          \n 14             [-1, 4]  1         0  ultralytics.nn.modules.conv.Concat           [1]                           \n 15                  -1  3   1247744  ultralytics.nn.modules.block.C2f             [768, 256, 3]                 \n 16                  -1  1    590336  ultralytics.nn.modules.conv.Conv             [256, 256, 3, 2]              \n 17            [-1, 12]  1         0  ultralytics.nn.modules.conv.Concat           [1]                           \n 18                  -1  3   4592640  ultralytics.nn.modules.block.C2f             [768, 512, 3]                 \n 19                  -1  1   2360320  ultralytics.nn.modules.conv.Conv             [512, 512, 3, 2]              \n 20             [-1, 9]  1         0  ultralytics.nn.modules.conv.Concat           [1]                           \n 21                  -1  3   4723712  ultralytics.nn.modules.block.C2f             [1024, 512, 3]                \n 22        [15, 18, 21]  1   5584342  ultralytics.nn.modules.head.Detect           [2, [256, 512, 512]]          \nModel summary: 365 layers, 43631382 parameters, 43631366 gradients, 165.4 GFLOPs\n\nTransferred 589/595 items from pretrained weights\n\u001b[34m\u001b[1mTensorBoard: \u001b[0mStart with 'tensorboard --logdir runs/detect/train37', view at http://localhost:6006/\n\u001b[34m\u001b[1mwandb\u001b[0m: Currently logged in as: \u001b[33mmohibuddin9\u001b[0m (\u001b[33mbg_ur\u001b[0m). Use \u001b[1m`wandb login --relogin`\u001b[0m to force relogin\n\u001b[34m\u001b[1mwandb\u001b[0m: wandb version 0.16.6 is available!  To upgrade, please run:\n\u001b[34m\u001b[1mwandb\u001b[0m:  $ pip install wandb --upgrade\n\u001b[34m\u001b[1mwandb\u001b[0m: Tracking run with wandb version 0.16.4\n\u001b[34m\u001b[1mwandb\u001b[0m: Run data is saved locally in \u001b[35m\u001b[1m/kaggle/working/wandb/run-20240501_141337-8lgqyhtx\u001b[0m\n\u001b[34m\u001b[1mwandb\u001b[0m: Run \u001b[1m`wandb offline`\u001b[0m to turn off syncing.\n\u001b[34m\u001b[1mwandb\u001b[0m: Syncing run \u001b[33mtrain37\u001b[0m\n\u001b[34m\u001b[1mwandb\u001b[0m: ⭐️ View project at \u001b[34m\u001b[4mhttps://wandb.ai/bg_ur/YOLOv8\u001b[0m\n\u001b[34m\u001b[1mwandb\u001b[0m: 🚀 View run at \u001b[34m\u001b[4mhttps://wandb.ai/bg_ur/YOLOv8/runs/8lgqyhtx\u001b[0m\nFreezing layer 'model.22.dfl.conv.weight'\n\u001b[34m\u001b[1mAMP: \u001b[0mrunning Automatic Mixed Precision (AMP) checks with YOLOv8n...\n\u001b[34m\u001b[1mAMP: \u001b[0mchecks passed ✅\n\u001b[34m\u001b[1mtrain: \u001b[0mScanning /kaggle/working/yalla-ya29/yalla/train/labels.cache... 13524 ima\u001b[0m\nWARNING ⚠️ Box and segment counts should be equal, but got len(segments) = 20644, len(boxes) = 21698. To resolve this only boxes will be used and all segments will be removed. To avoid this please supply either a detect or segment dataset, not a detect-segment mixed dataset.\n\u001b[34m\u001b[1malbumentations: \u001b[0mBlur(p=0.01, blur_limit=(3, 7)), MedianBlur(p=0.01, blur_limit=(3, 7)), ToGray(p=0.01), CLAHE(p=0.01, clip_limit=(1, 4.0), tile_grid_size=(8, 8))\n\u001b[34m\u001b[1mval: \u001b[0mScanning /kaggle/working/yalla-ya29/yalla/valid/labels.cache... 1293 images\u001b[0m\nWARNING ⚠️ Box and segment counts should be equal, but got len(segments) = 2069, len(boxes) = 2164. To resolve this only boxes will be used and all segments will be removed. To avoid this please supply either a detect or segment dataset, not a detect-segment mixed dataset.\nPlotting labels to runs/detect/train37/labels.jpg... \n\u001b[34m\u001b[1moptimizer:\u001b[0m 'optimizer=auto' found, ignoring 'lr0=0.01' and 'momentum=0.937' and determining best 'optimizer', 'lr0' and 'momentum' automatically... \n\u001b[34m\u001b[1moptimizer:\u001b[0m AdamW(lr=0.001667, momentum=0.9) with parameter groups 97 weight(decay=0.0), 104 weight(decay=0.0005), 103 bias(decay=0.0)\n\u001b[34m\u001b[1mTensorBoard: \u001b[0mmodel graph visualization added ✅\nImage sizes 640 train, 640 val\nUsing 4 dataloader workers\nLogging results to \u001b[1mruns/detect/train37\u001b[0m\nStarting training for 20 epochs...\n\n      Epoch    GPU_mem   box_loss   cls_loss   dfl_loss  Instances       Size\n       1/20      11.3G     0.5265     0.8334      1.091          8        640: 1\n                 Class     Images  Instances      Box(P          R      mAP50  m\n                   all       1293       2164      0.711      0.705      0.735      0.632\n\n      Epoch    GPU_mem   box_loss   cls_loss   dfl_loss  Instances       Size\n       2/20      11.2G     0.4653     0.5432      1.026         15        640: 1\n                 Class     Images  Instances      Box(P          R      mAP50  m\n                   all       1293       2164       0.91      0.814      0.895      0.776\n\n      Epoch    GPU_mem   box_loss   cls_loss   dfl_loss  Instances       Size\n       3/20      11.1G     0.4117     0.4411     0.9866          8        640: 1\n                 Class     Images  Instances      Box(P          R      mAP50  m\n                   all       1293       2164      0.913      0.881      0.929      0.816\n\n      Epoch    GPU_mem   box_loss   cls_loss   dfl_loss  Instances       Size\n       4/20      11.2G     0.3688     0.3738     0.9652         12        640: 1\n                 Class     Images  Instances      Box(P          R      mAP50  m\n                   all       1293       2164      0.943       0.89      0.941       0.83\n\n      Epoch    GPU_mem   box_loss   cls_loss   dfl_loss  Instances       Size\n       5/20      11.2G     0.3427     0.3331     0.9523         24        640: 1\n                 Class     Images  Instances      Box(P          R      mAP50  m\n                   all       1293       2164      0.917      0.899       0.94      0.831\n\n      Epoch    GPU_mem   box_loss   cls_loss   dfl_loss  Instances       Size\n       6/20      11.2G     0.3283     0.3119      0.944          7        640: 1\n                 Class     Images  Instances      Box(P          R      mAP50  m\n                   all       1293       2164      0.909      0.888      0.932       0.83\n\n      Epoch    GPU_mem   box_loss   cls_loss   dfl_loss  Instances       Size\n       7/20      11.2G     0.3234     0.2912     0.9368         14        640: 1\n                 Class     Images  Instances      Box(P          R      mAP50  m\n                   all       1293       2164      0.946      0.898      0.951      0.844\n\n      Epoch    GPU_mem   box_loss   cls_loss   dfl_loss  Instances       Size\n       8/20      11.2G     0.3029     0.2731     0.9316         13        640: 1\n                 Class     Images  Instances      Box(P          R      mAP50  m\n                   all       1293       2164      0.958      0.915       0.96      0.856\n\n      Epoch    GPU_mem   box_loss   cls_loss   dfl_loss  Instances       Size\n       9/20      11.1G      0.298     0.2614     0.9278         10        640: 1\n                 Class     Images  Instances      Box(P          R      mAP50  m\n                   all       1293       2164      0.952      0.914      0.957      0.854\n\n      Epoch    GPU_mem   box_loss   cls_loss   dfl_loss  Instances       Size\n      10/20      11.2G     0.2915     0.2548     0.9261         23        640: 1\n                 Class     Images  Instances      Box(P          R      mAP50  m\n                   all       1293       2164      0.954      0.912      0.959      0.859\nClosing dataloader mosaic\n\u001b[34m\u001b[1malbumentations: \u001b[0mBlur(p=0.01, blur_limit=(3, 7)), MedianBlur(p=0.01, blur_limit=(3, 7)), ToGray(p=0.01), CLAHE(p=0.01, clip_limit=(1, 4.0), tile_grid_size=(8, 8))\n\n      Epoch    GPU_mem   box_loss   cls_loss   dfl_loss  Instances       Size\n      11/20      11.2G     0.3326     0.2165     0.8803          6        640: 1\n                 Class     Images  Instances      Box(P          R      mAP50  m\n                   all       1293       2164      0.954      0.918      0.962      0.861\n\n      Epoch    GPU_mem   box_loss   cls_loss   dfl_loss  Instances       Size\n      12/20      11.2G     0.3209     0.1952     0.8714         20        640: 1\n                 Class     Images  Instances      Box(P          R      mAP50  m\n                   all       1293       2164      0.953      0.922      0.962      0.857\n\n      Epoch    GPU_mem   box_loss   cls_loss   dfl_loss  Instances       Size\n      13/20      11.2G     0.3072     0.1868      0.865          4        640: 1\n                 Class     Images  Instances      Box(P          R      mAP50  m\n                   all       1293       2164      0.947      0.906      0.955      0.856\n\n      Epoch    GPU_mem   box_loss   cls_loss   dfl_loss  Instances       Size\n      14/20      11.2G      0.295     0.1764     0.8581         21        640: 1\n                 Class     Images  Instances      Box(P          R      mAP50  m\n                   all       1293       2164      0.955      0.924      0.961      0.868\n\n      Epoch    GPU_mem   box_loss   cls_loss   dfl_loss  Instances       Size\n      15/20      11.2G     0.2847      0.169     0.8552          4        640: 1\n                 Class     Images  Instances      Box(P          R      mAP50  m\n                   all       1293       2164      0.952      0.927      0.965      0.875\n\n      Epoch    GPU_mem   box_loss   cls_loss   dfl_loss  Instances       Size\n      16/20      11.2G     0.2726      0.158     0.8488          4        640: 1\n                 Class     Images  Instances      Box(P          R      mAP50  m\n                   all       1293       2164      0.963      0.925      0.966      0.876\n\n      Epoch    GPU_mem   box_loss   cls_loss   dfl_loss  Instances       Size\n      17/20      11.2G     0.2634      0.153      0.846          4        640: 1\n                 Class     Images  Instances      Box(P          R      mAP50  m\n                   all       1293       2164      0.957      0.943      0.971      0.885\n\n      Epoch    GPU_mem   box_loss   cls_loss   dfl_loss  Instances       Size\n      18/20      11.1G     0.2574     0.1478      0.844          4        640: 1\n                 Class     Images  Instances      Box(P          R      mAP50  m\n                   all       1293       2164       0.97      0.938      0.971      0.886\n\n      Epoch    GPU_mem   box_loss   cls_loss   dfl_loss  Instances       Size\n      19/20      11.1G     0.2486     0.1422     0.8392          4        640: 1\n                 Class     Images  Instances      Box(P          R      mAP50  m\n                   all       1293       2164      0.967      0.948      0.975      0.892\n\n      Epoch    GPU_mem   box_loss   cls_loss   dfl_loss  Instances       Size\n      20/20      11.2G     0.2391     0.1343     0.8373          4        640: 1\n                 Class     Images  Instances      Box(P          R      mAP50  m\n                   all       1293       2164      0.964      0.948      0.975      0.894\n\n20 epochs completed in 3.596 hours.\nOptimizer stripped from runs/detect/train37/weights/last.pt, 87.6MB\nOptimizer stripped from runs/detect/train37/weights/best.pt, 87.6MB\n\nValidating runs/detect/train37/weights/best.pt...\nUltralytics YOLOv8.2.6 🚀 Python-3.10.13 torch-2.1.2 CUDA:0 (Tesla T4, 15102MiB)\nModel summary (fused): 268 layers, 43608150 parameters, 0 gradients, 164.8 GFLOPs\n                 Class     Images  Instances      Box(P          R      mAP50  m\n                   all       1293       2164      0.964      0.948      0.975      0.894\n               faulted       1293       1415       0.93      0.897      0.956      0.793\n                normal       1293        749      0.999          1      0.995      0.995\nSpeed: 0.2ms preprocess, 15.5ms inference, 0.0ms loss, 1.1ms postprocess per image\nResults saved to \u001b[1mruns/detect/train37\u001b[0m\n\u001b[34m\u001b[1mwandb\u001b[0m:                                                                                \n\u001b[34m\u001b[1mwandb\u001b[0m: \n\u001b[34m\u001b[1mwandb\u001b[0m: Run history:\n\u001b[34m\u001b[1mwandb\u001b[0m:                  lr/pg0 ▃▆██▇▇▆▆▆▅▅▄▄▃▃▃▂▂▁▁\n\u001b[34m\u001b[1mwandb\u001b[0m:                  lr/pg1 ▃▆██▇▇▆▆▆▅▅▄▄▃▃▃▂▂▁▁\n\u001b[34m\u001b[1mwandb\u001b[0m:                  lr/pg2 ▃▆██▇▇▆▆▆▅▅▄▄▃▃▃▂▂▁▁\n\u001b[34m\u001b[1mwandb\u001b[0m:        metrics/mAP50(B) ▁▆▇▇▇▇▇█▇███▇███████\n\u001b[34m\u001b[1mwandb\u001b[0m:     metrics/mAP50-95(B) ▁▅▆▆▆▆▇▇▇▇▇▇▇▇██████\n\u001b[34m\u001b[1mwandb\u001b[0m:    metrics/precision(B) ▁▆▆▇▇▆▇█████▇███████\n\u001b[34m\u001b[1mwandb\u001b[0m:       metrics/recall(B) ▁▄▆▆▇▆▇▇▇▇▇▇▇▇▇▇████\n\u001b[34m\u001b[1mwandb\u001b[0m:            model/GFLOPs ▁\n\u001b[34m\u001b[1mwandb\u001b[0m:        model/parameters ▁\n\u001b[34m\u001b[1mwandb\u001b[0m: model/speed_PyTorch(ms) ▁\n\u001b[34m\u001b[1mwandb\u001b[0m:          train/box_loss █▇▅▄▄▃▃▃▂▂▃▃▃▂▂▂▂▁▁▁\n\u001b[34m\u001b[1mwandb\u001b[0m:          train/cls_loss █▅▄▃▃▃▃▂▂▂▂▂▂▁▁▁▁▁▁▁\n\u001b[34m\u001b[1mwandb\u001b[0m:          train/dfl_loss █▆▅▅▄▄▄▄▄▃▂▂▂▂▁▁▁▁▁▁\n\u001b[34m\u001b[1mwandb\u001b[0m:            val/box_loss █▄▃▃▃▂▂▂▂▂▂▂▂▂▁▁▁▁▁▁\n\u001b[34m\u001b[1mwandb\u001b[0m:            val/cls_loss █▄▂▂▂▂▂▂▁▁▁▁▁▁▁▁▁▁▁▁\n\u001b[34m\u001b[1mwandb\u001b[0m:            val/dfl_loss █▄▃▂▂▂▂▂▂▂▁▂▁▁▁▁▁▁▁▁\n\u001b[34m\u001b[1mwandb\u001b[0m: \n\u001b[34m\u001b[1mwandb\u001b[0m: Run summary:\n\u001b[34m\u001b[1mwandb\u001b[0m:                  lr/pg0 0.0001\n\u001b[34m\u001b[1mwandb\u001b[0m:                  lr/pg1 0.0001\n\u001b[34m\u001b[1mwandb\u001b[0m:                  lr/pg2 0.0001\n\u001b[34m\u001b[1mwandb\u001b[0m:        metrics/mAP50(B) 0.97532\n\u001b[34m\u001b[1mwandb\u001b[0m:     metrics/mAP50-95(B) 0.89381\n\u001b[34m\u001b[1mwandb\u001b[0m:    metrics/precision(B) 0.96442\n\u001b[34m\u001b[1mwandb\u001b[0m:       metrics/recall(B) 0.94838\n\u001b[34m\u001b[1mwandb\u001b[0m:            model/GFLOPs 165.407\n\u001b[34m\u001b[1mwandb\u001b[0m:        model/parameters 43631382\n\u001b[34m\u001b[1mwandb\u001b[0m: model/speed_PyTorch(ms) 16.006\n\u001b[34m\u001b[1mwandb\u001b[0m:          train/box_loss 0.2391\n\u001b[34m\u001b[1mwandb\u001b[0m:          train/cls_loss 0.13433\n\u001b[34m\u001b[1mwandb\u001b[0m:          train/dfl_loss 0.83728\n\u001b[34m\u001b[1mwandb\u001b[0m:            val/box_loss 0.1572\n\u001b[34m\u001b[1mwandb\u001b[0m:            val/cls_loss 0.10395\n\u001b[34m\u001b[1mwandb\u001b[0m:            val/dfl_loss 0.68428\n\u001b[34m\u001b[1mwandb\u001b[0m: \n\u001b[34m\u001b[1mwandb\u001b[0m: 🚀 View run \u001b[33mtrain37\u001b[0m at: \u001b[34m\u001b[4mhttps://wandb.ai/bg_ur/YOLOv8/runs/8lgqyhtx\u001b[0m\n\u001b[34m\u001b[1mwandb\u001b[0m: Synced 6 W&B file(s), 24 media file(s), 5 artifact file(s) and 0 other file(s)\n\u001b[34m\u001b[1mwandb\u001b[0m: Find logs at: \u001b[35m\u001b[1m./wandb/run-20240501_141337-8lgqyhtx/logs\u001b[0m\n💡 Learn more at https://docs.ultralytics.com/modes/train\n",
          "output_type": "stream"
        }
      ]
    }
  ]
}